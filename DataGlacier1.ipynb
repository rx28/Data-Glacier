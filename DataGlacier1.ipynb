{
  "nbformat": 4,
  "nbformat_minor": 0,
  "metadata": {
    "colab": {
      "provenance": []
    },
    "kernelspec": {
      "name": "python3",
      "display_name": "Python 3"
    },
    "language_info": {
      "name": "python"
    }
  },
  "cells": [
    {
      "cell_type": "markdown",
      "source": [
        "#Importing DataSet"
      ],
      "metadata": {
        "id": "qpKIneI3lZNN"
      }
    },
    {
      "cell_type": "code",
      "execution_count": null,
      "metadata": {
        "id": "XEfTOVNUi9GA"
      },
      "outputs": [],
      "source": [
        "import pandas as pd\n",
        "import matplotlib.pyplot as plt\n",
        "import numpy as np\n",
        "\n",
        "C_data = pd.read_csv('Cab_Data.csv')\n",
        "City= pd.read_csv('City.csv')\n",
        "C_ID= pd.read_csv('Customer_ID.csv')\n",
        "T_ID= pd.read_csv('Transaction_ID.csv')\n"
      ]
    },
    {
      "cell_type": "markdown",
      "source": [
        "#Dropping the NaN Value"
      ],
      "metadata": {
        "id": "g5E4K2ZAxzb2"
      }
    },
    {
      "cell_type": "code",
      "source": [
        "C_data = C_data.dropna()\n",
        "City= City.dropna()\n",
        "C_ID= C_ID.dropna()\n",
        "T_ID= T_ID.dropna()\n",
        "\n"
      ],
      "metadata": {
        "id": "N49RTZnnO9Bp"
      },
      "execution_count": null,
      "outputs": []
    },
    {
      "cell_type": "markdown",
      "source": [
        "#Check for any outliers"
      ],
      "metadata": {
        "id": "ay8f3w33yddO"
      }
    },
    {
      "cell_type": "code",
      "source": [
        "z = np.abs((C_data - C_data.mean()) / C_data.std())\n",
        "\n",
        "# Find column names with any Z-score greater than 3 (an arbitrary threshold for outliers)\n",
        "outliers = z > 3\n",
        "cols_with_outliers = outliers.any()\n",
        "\n",
        "# Print the column names with outliers\n",
        "print(cols_with_outliers[cols_with_outliers == True].index.tolist())"
      ],
      "metadata": {
        "colab": {
          "base_uri": "https://localhost:8080/"
        },
        "id": "3fYdAHwVQtHa",
        "outputId": "b2b571b2-574d-4bf2-9426-a1b9e7cefb6b"
      },
      "execution_count": null,
      "outputs": [
        {
          "output_type": "stream",
          "name": "stderr",
          "text": [
            "<ipython-input-6-74b0e4a8c127>:1: FutureWarning: Dropping of nuisance columns in DataFrame reductions (with 'numeric_only=None') is deprecated; in a future version this will raise TypeError.  Select only valid columns before calling the reduction.\n",
            "  z = np.abs((C_data - C_data.mean()) / C_data.std())\n"
          ]
        },
        {
          "output_type": "stream",
          "name": "stdout",
          "text": [
            "['Price Charged']\n"
          ]
        }
      ]
    },
    {
      "cell_type": "code",
      "source": [
        "z = np.abs((City - City.mean()) / City.std())\n",
        "outliers = z > 3\n",
        "cols_with_outliers = outliers.any()\n",
        "print(cols_with_outliers[cols_with_outliers == True].index.tolist())"
      ],
      "metadata": {
        "colab": {
          "base_uri": "https://localhost:8080/"
        },
        "id": "NQyDhTqqRyqS",
        "outputId": "ccf1e39f-646e-4ef5-af3a-3d9004233500"
      },
      "execution_count": null,
      "outputs": [
        {
          "output_type": "stream",
          "name": "stdout",
          "text": [
            "[]\n"
          ]
        },
        {
          "output_type": "stream",
          "name": "stderr",
          "text": [
            "<ipython-input-7-acdf4a662d78>:1: FutureWarning: Dropping of nuisance columns in DataFrame reductions (with 'numeric_only=None') is deprecated; in a future version this will raise TypeError.  Select only valid columns before calling the reduction.\n",
            "  z = np.abs((City - City.mean()) / City.std())\n"
          ]
        }
      ]
    },
    {
      "cell_type": "code",
      "source": [
        "z = np.abs((C_ID - C_ID.mean()) / C_ID.std())\n",
        "outliers = z > 3\n",
        "cols_with_outliers = outliers.any()\n",
        "print(cols_with_outliers[cols_with_outliers == True].index.tolist())"
      ],
      "metadata": {
        "colab": {
          "base_uri": "https://localhost:8080/"
        },
        "id": "Ame3hjSORyx0",
        "outputId": "08041e7d-e617-48b3-bde4-402d9d637079"
      },
      "execution_count": null,
      "outputs": [
        {
          "output_type": "stream",
          "name": "stdout",
          "text": [
            "[]\n"
          ]
        },
        {
          "output_type": "stream",
          "name": "stderr",
          "text": [
            "<ipython-input-8-aa9e9e4f6abc>:1: FutureWarning: Dropping of nuisance columns in DataFrame reductions (with 'numeric_only=None') is deprecated; in a future version this will raise TypeError.  Select only valid columns before calling the reduction.\n",
            "  z = np.abs((C_ID - C_ID.mean()) / C_ID.std())\n"
          ]
        }
      ]
    },
    {
      "cell_type": "code",
      "source": [
        "z = np.abs((T_ID - T_ID.mean()) / T_ID.std())\n",
        "outliers = z > 3\n",
        "cols_with_outliers = outliers.any()\n",
        "print(cols_with_outliers[cols_with_outliers == True].index.tolist())"
      ],
      "metadata": {
        "colab": {
          "base_uri": "https://localhost:8080/"
        },
        "id": "PIMf6dKRRzAQ",
        "outputId": "4983c6c5-0045-485b-96b7-50b75b3ae4a7"
      },
      "execution_count": null,
      "outputs": [
        {
          "output_type": "stream",
          "name": "stdout",
          "text": [
            "[]\n"
          ]
        },
        {
          "output_type": "stream",
          "name": "stderr",
          "text": [
            "<ipython-input-114-9443659fe957>:1: FutureWarning: Dropping of nuisance columns in DataFrame reductions (with 'numeric_only=None') is deprecated; in a future version this will raise TypeError.  Select only valid columns before calling the reduction.\n",
            "  z = np.abs((T_ID - T_ID.mean()) / T_ID.std())\n"
          ]
        }
      ]
    },
    {
      "cell_type": "markdown",
      "source": [
        "#Price charged has an outlier but due to lack of information we will not consider that."
      ],
      "metadata": {
        "id": "mvkGnDIg0M6d"
      }
    },
    {
      "cell_type": "code",
      "source": [
        "P_C=C_data[C_data['Company']=='Pink Cab']\n",
        "Y_C=C_data[C_data['Company']=='Yellow Cab']"
      ],
      "metadata": {
        "id": "rhIuyGYMmiBI"
      },
      "execution_count": 9,
      "outputs": []
    },
    {
      "cell_type": "code",
      "source": [
        "P_C['Profit']=P_C['Price Charged']-P_C['Cost of Trip']\n",
        "total_profit_pc=P_C['Profit'].sum()\n",
        "Total_rides_pc=P_C.shape[0]\n",
        "profit_per_ride_pc=total_profit_pc/Total_rides_pc\n",
        "\n",
        "\n",
        "Y_C['Profit']=Y_C['Price Charged']-Y_C['Cost of Trip']\n",
        "total_profit_yc=Y_C['Profit'].sum()\n",
        "Total_rides_yc=Y_C.shape[0]\n",
        "profit_per_ride_yc=total_profit_yc/Total_rides_yc\n"
      ],
      "metadata": {
        "id": "4IJQkmm2mkUb",
        "colab": {
          "base_uri": "https://localhost:8080/"
        },
        "outputId": "2e5008ab-1fa1-43fd-8264-01ee7bd6c67b"
      },
      "execution_count": 10,
      "outputs": [
        {
          "output_type": "stream",
          "name": "stderr",
          "text": [
            "<ipython-input-10-69e94ee2a318>:1: SettingWithCopyWarning: \n",
            "A value is trying to be set on a copy of a slice from a DataFrame.\n",
            "Try using .loc[row_indexer,col_indexer] = value instead\n",
            "\n",
            "See the caveats in the documentation: https://pandas.pydata.org/pandas-docs/stable/user_guide/indexing.html#returning-a-view-versus-a-copy\n",
            "  P_C['Profit']=P_C['Price Charged']-P_C['Cost of Trip']\n",
            "<ipython-input-10-69e94ee2a318>:7: SettingWithCopyWarning: \n",
            "A value is trying to be set on a copy of a slice from a DataFrame.\n",
            "Try using .loc[row_indexer,col_indexer] = value instead\n",
            "\n",
            "See the caveats in the documentation: https://pandas.pydata.org/pandas-docs/stable/user_guide/indexing.html#returning-a-view-versus-a-copy\n",
            "  Y_C['Profit']=Y_C['Price Charged']-Y_C['Cost of Trip']\n"
          ]
        }
      ]
    },
    {
      "cell_type": "code",
      "source": [
        "Vis1=pd.DataFrame({'Profit':[total_profit_pc,total_profit_yc],'Total Rides':[Total_rides_pc,Total_rides_yc],'Profit Per Rides':[profit_per_ride_pc,profit_per_ride_yc]})\n",
        "row_labels = ['Pink Cab', 'Yellow Cab']\n",
        "df = Vis1.set_index([row_labels])"
      ],
      "metadata": {
        "id": "5LcPKoaRql7_"
      },
      "execution_count": 11,
      "outputs": []
    },
    {
      "cell_type": "markdown",
      "source": [
        "#We can observe Yellow cab is more profitable both in terms of total rides and profit per rides."
      ],
      "metadata": {
        "id": "8BD67L6zz5rZ"
      }
    },
    {
      "cell_type": "code",
      "source": [
        "df"
      ],
      "metadata": {
        "colab": {
          "base_uri": "https://localhost:8080/",
          "height": 112
        },
        "id": "epeZnTMQql_j",
        "outputId": "e504ab81-ec8e-4773-fddd-17b9082b9de1"
      },
      "execution_count": 12,
      "outputs": [
        {
          "output_type": "execute_result",
          "data": {
            "text/plain": [
              "                  Profit  Total Rides  Profit Per Rides\n",
              "Pink Cab    5.307328e+06        84711         62.652174\n",
              "Yellow Cab  4.402037e+07       274681        160.259986"
            ],
            "text/html": [
              "\n",
              "  <div id=\"df-a39b0a88-2d32-46b9-8178-f0beddba8c60\">\n",
              "    <div class=\"colab-df-container\">\n",
              "      <div>\n",
              "<style scoped>\n",
              "    .dataframe tbody tr th:only-of-type {\n",
              "        vertical-align: middle;\n",
              "    }\n",
              "\n",
              "    .dataframe tbody tr th {\n",
              "        vertical-align: top;\n",
              "    }\n",
              "\n",
              "    .dataframe thead th {\n",
              "        text-align: right;\n",
              "    }\n",
              "</style>\n",
              "<table border=\"1\" class=\"dataframe\">\n",
              "  <thead>\n",
              "    <tr style=\"text-align: right;\">\n",
              "      <th></th>\n",
              "      <th>Profit</th>\n",
              "      <th>Total Rides</th>\n",
              "      <th>Profit Per Rides</th>\n",
              "    </tr>\n",
              "  </thead>\n",
              "  <tbody>\n",
              "    <tr>\n",
              "      <th>Pink Cab</th>\n",
              "      <td>5.307328e+06</td>\n",
              "      <td>84711</td>\n",
              "      <td>62.652174</td>\n",
              "    </tr>\n",
              "    <tr>\n",
              "      <th>Yellow Cab</th>\n",
              "      <td>4.402037e+07</td>\n",
              "      <td>274681</td>\n",
              "      <td>160.259986</td>\n",
              "    </tr>\n",
              "  </tbody>\n",
              "</table>\n",
              "</div>\n",
              "      <button class=\"colab-df-convert\" onclick=\"convertToInteractive('df-a39b0a88-2d32-46b9-8178-f0beddba8c60')\"\n",
              "              title=\"Convert this dataframe to an interactive table.\"\n",
              "              style=\"display:none;\">\n",
              "        \n",
              "  <svg xmlns=\"http://www.w3.org/2000/svg\" height=\"24px\"viewBox=\"0 0 24 24\"\n",
              "       width=\"24px\">\n",
              "    <path d=\"M0 0h24v24H0V0z\" fill=\"none\"/>\n",
              "    <path d=\"M18.56 5.44l.94 2.06.94-2.06 2.06-.94-2.06-.94-.94-2.06-.94 2.06-2.06.94zm-11 1L8.5 8.5l.94-2.06 2.06-.94-2.06-.94L8.5 2.5l-.94 2.06-2.06.94zm10 10l.94 2.06.94-2.06 2.06-.94-2.06-.94-.94-2.06-.94 2.06-2.06.94z\"/><path d=\"M17.41 7.96l-1.37-1.37c-.4-.4-.92-.59-1.43-.59-.52 0-1.04.2-1.43.59L10.3 9.45l-7.72 7.72c-.78.78-.78 2.05 0 2.83L4 21.41c.39.39.9.59 1.41.59.51 0 1.02-.2 1.41-.59l7.78-7.78 2.81-2.81c.8-.78.8-2.07 0-2.86zM5.41 20L4 18.59l7.72-7.72 1.47 1.35L5.41 20z\"/>\n",
              "  </svg>\n",
              "      </button>\n",
              "      \n",
              "  <style>\n",
              "    .colab-df-container {\n",
              "      display:flex;\n",
              "      flex-wrap:wrap;\n",
              "      gap: 12px;\n",
              "    }\n",
              "\n",
              "    .colab-df-convert {\n",
              "      background-color: #E8F0FE;\n",
              "      border: none;\n",
              "      border-radius: 50%;\n",
              "      cursor: pointer;\n",
              "      display: none;\n",
              "      fill: #1967D2;\n",
              "      height: 32px;\n",
              "      padding: 0 0 0 0;\n",
              "      width: 32px;\n",
              "    }\n",
              "\n",
              "    .colab-df-convert:hover {\n",
              "      background-color: #E2EBFA;\n",
              "      box-shadow: 0px 1px 2px rgba(60, 64, 67, 0.3), 0px 1px 3px 1px rgba(60, 64, 67, 0.15);\n",
              "      fill: #174EA6;\n",
              "    }\n",
              "\n",
              "    [theme=dark] .colab-df-convert {\n",
              "      background-color: #3B4455;\n",
              "      fill: #D2E3FC;\n",
              "    }\n",
              "\n",
              "    [theme=dark] .colab-df-convert:hover {\n",
              "      background-color: #434B5C;\n",
              "      box-shadow: 0px 1px 3px 1px rgba(0, 0, 0, 0.15);\n",
              "      filter: drop-shadow(0px 1px 2px rgba(0, 0, 0, 0.3));\n",
              "      fill: #FFFFFF;\n",
              "    }\n",
              "  </style>\n",
              "\n",
              "      <script>\n",
              "        const buttonEl =\n",
              "          document.querySelector('#df-a39b0a88-2d32-46b9-8178-f0beddba8c60 button.colab-df-convert');\n",
              "        buttonEl.style.display =\n",
              "          google.colab.kernel.accessAllowed ? 'block' : 'none';\n",
              "\n",
              "        async function convertToInteractive(key) {\n",
              "          const element = document.querySelector('#df-a39b0a88-2d32-46b9-8178-f0beddba8c60');\n",
              "          const dataTable =\n",
              "            await google.colab.kernel.invokeFunction('convertToInteractive',\n",
              "                                                     [key], {});\n",
              "          if (!dataTable) return;\n",
              "\n",
              "          const docLinkHtml = 'Like what you see? Visit the ' +\n",
              "            '<a target=\"_blank\" href=https://colab.research.google.com/notebooks/data_table.ipynb>data table notebook</a>'\n",
              "            + ' to learn more about interactive tables.';\n",
              "          element.innerHTML = '';\n",
              "          dataTable['output_type'] = 'display_data';\n",
              "          await google.colab.output.renderOutput(dataTable, element);\n",
              "          const docLink = document.createElement('div');\n",
              "          docLink.innerHTML = docLinkHtml;\n",
              "          element.appendChild(docLink);\n",
              "        }\n",
              "      </script>\n",
              "    </div>\n",
              "  </div>\n",
              "  "
            ]
          },
          "metadata": {},
          "execution_count": 12
        }
      ]
    },
    {
      "cell_type": "markdown",
      "source": [
        "#Data Head for pink cab and yellow cab.\n",
        "\n"
      ],
      "metadata": {
        "id": "8_iszRTf0pEj"
      }
    },
    {
      "cell_type": "code",
      "source": [
        "P_C"
      ],
      "metadata": {
        "colab": {
          "base_uri": "https://localhost:8080/",
          "height": 423
        },
        "id": "qZNQgkG3syen",
        "outputId": "54eef3f0-417b-4d55-eb72-a81ed4e31bdb"
      },
      "execution_count": 13,
      "outputs": [
        {
          "output_type": "execute_result",
          "data": {
            "text/plain": [
              "        Transaction ID  Date of Travel   Company           City  KM Travelled  \\\n",
              "0             10000011           42377  Pink Cab     ATLANTA GA         30.45   \n",
              "1             10000012           42375  Pink Cab     ATLANTA GA         28.62   \n",
              "2             10000013           42371  Pink Cab     ATLANTA GA          9.04   \n",
              "3             10000014           42376  Pink Cab     ATLANTA GA         33.17   \n",
              "4             10000015           42372  Pink Cab     ATLANTA GA          8.73   \n",
              "...                ...             ...       ...            ...           ...   \n",
              "357449        10437610           43106  Pink Cab  WASHINGTON DC         13.56   \n",
              "357450        10437611           43465  Pink Cab  WASHINGTON DC         29.68   \n",
              "357451        10437612           43107  Pink Cab  WASHINGTON DC         28.50   \n",
              "357452        10437614           43102  Pink Cab  WASHINGTON DC         16.10   \n",
              "357453        10437615           43105  Pink Cab  WASHINGTON DC         22.20   \n",
              "\n",
              "        Price Charged  Cost of Trip  Profit  \n",
              "0              370.95       313.635  57.315  \n",
              "1              358.52       334.854  23.666  \n",
              "2              125.20        97.632  27.568  \n",
              "3              377.40       351.602  25.798  \n",
              "4              114.62        97.776  16.844  \n",
              "...               ...           ...     ...  \n",
              "357449         184.19       135.600  48.590  \n",
              "357450         388.08       302.736  85.344  \n",
              "357451         369.04       310.650  58.390  \n",
              "357452         194.17       162.610  31.560  \n",
              "357453         287.46       244.200  43.260  \n",
              "\n",
              "[84711 rows x 8 columns]"
            ],
            "text/html": [
              "\n",
              "  <div id=\"df-73aa3253-77cf-4bca-bcdd-d08af28792d7\">\n",
              "    <div class=\"colab-df-container\">\n",
              "      <div>\n",
              "<style scoped>\n",
              "    .dataframe tbody tr th:only-of-type {\n",
              "        vertical-align: middle;\n",
              "    }\n",
              "\n",
              "    .dataframe tbody tr th {\n",
              "        vertical-align: top;\n",
              "    }\n",
              "\n",
              "    .dataframe thead th {\n",
              "        text-align: right;\n",
              "    }\n",
              "</style>\n",
              "<table border=\"1\" class=\"dataframe\">\n",
              "  <thead>\n",
              "    <tr style=\"text-align: right;\">\n",
              "      <th></th>\n",
              "      <th>Transaction ID</th>\n",
              "      <th>Date of Travel</th>\n",
              "      <th>Company</th>\n",
              "      <th>City</th>\n",
              "      <th>KM Travelled</th>\n",
              "      <th>Price Charged</th>\n",
              "      <th>Cost of Trip</th>\n",
              "      <th>Profit</th>\n",
              "    </tr>\n",
              "  </thead>\n",
              "  <tbody>\n",
              "    <tr>\n",
              "      <th>0</th>\n",
              "      <td>10000011</td>\n",
              "      <td>42377</td>\n",
              "      <td>Pink Cab</td>\n",
              "      <td>ATLANTA GA</td>\n",
              "      <td>30.45</td>\n",
              "      <td>370.95</td>\n",
              "      <td>313.635</td>\n",
              "      <td>57.315</td>\n",
              "    </tr>\n",
              "    <tr>\n",
              "      <th>1</th>\n",
              "      <td>10000012</td>\n",
              "      <td>42375</td>\n",
              "      <td>Pink Cab</td>\n",
              "      <td>ATLANTA GA</td>\n",
              "      <td>28.62</td>\n",
              "      <td>358.52</td>\n",
              "      <td>334.854</td>\n",
              "      <td>23.666</td>\n",
              "    </tr>\n",
              "    <tr>\n",
              "      <th>2</th>\n",
              "      <td>10000013</td>\n",
              "      <td>42371</td>\n",
              "      <td>Pink Cab</td>\n",
              "      <td>ATLANTA GA</td>\n",
              "      <td>9.04</td>\n",
              "      <td>125.20</td>\n",
              "      <td>97.632</td>\n",
              "      <td>27.568</td>\n",
              "    </tr>\n",
              "    <tr>\n",
              "      <th>3</th>\n",
              "      <td>10000014</td>\n",
              "      <td>42376</td>\n",
              "      <td>Pink Cab</td>\n",
              "      <td>ATLANTA GA</td>\n",
              "      <td>33.17</td>\n",
              "      <td>377.40</td>\n",
              "      <td>351.602</td>\n",
              "      <td>25.798</td>\n",
              "    </tr>\n",
              "    <tr>\n",
              "      <th>4</th>\n",
              "      <td>10000015</td>\n",
              "      <td>42372</td>\n",
              "      <td>Pink Cab</td>\n",
              "      <td>ATLANTA GA</td>\n",
              "      <td>8.73</td>\n",
              "      <td>114.62</td>\n",
              "      <td>97.776</td>\n",
              "      <td>16.844</td>\n",
              "    </tr>\n",
              "    <tr>\n",
              "      <th>...</th>\n",
              "      <td>...</td>\n",
              "      <td>...</td>\n",
              "      <td>...</td>\n",
              "      <td>...</td>\n",
              "      <td>...</td>\n",
              "      <td>...</td>\n",
              "      <td>...</td>\n",
              "      <td>...</td>\n",
              "    </tr>\n",
              "    <tr>\n",
              "      <th>357449</th>\n",
              "      <td>10437610</td>\n",
              "      <td>43106</td>\n",
              "      <td>Pink Cab</td>\n",
              "      <td>WASHINGTON DC</td>\n",
              "      <td>13.56</td>\n",
              "      <td>184.19</td>\n",
              "      <td>135.600</td>\n",
              "      <td>48.590</td>\n",
              "    </tr>\n",
              "    <tr>\n",
              "      <th>357450</th>\n",
              "      <td>10437611</td>\n",
              "      <td>43465</td>\n",
              "      <td>Pink Cab</td>\n",
              "      <td>WASHINGTON DC</td>\n",
              "      <td>29.68</td>\n",
              "      <td>388.08</td>\n",
              "      <td>302.736</td>\n",
              "      <td>85.344</td>\n",
              "    </tr>\n",
              "    <tr>\n",
              "      <th>357451</th>\n",
              "      <td>10437612</td>\n",
              "      <td>43107</td>\n",
              "      <td>Pink Cab</td>\n",
              "      <td>WASHINGTON DC</td>\n",
              "      <td>28.50</td>\n",
              "      <td>369.04</td>\n",
              "      <td>310.650</td>\n",
              "      <td>58.390</td>\n",
              "    </tr>\n",
              "    <tr>\n",
              "      <th>357452</th>\n",
              "      <td>10437614</td>\n",
              "      <td>43102</td>\n",
              "      <td>Pink Cab</td>\n",
              "      <td>WASHINGTON DC</td>\n",
              "      <td>16.10</td>\n",
              "      <td>194.17</td>\n",
              "      <td>162.610</td>\n",
              "      <td>31.560</td>\n",
              "    </tr>\n",
              "    <tr>\n",
              "      <th>357453</th>\n",
              "      <td>10437615</td>\n",
              "      <td>43105</td>\n",
              "      <td>Pink Cab</td>\n",
              "      <td>WASHINGTON DC</td>\n",
              "      <td>22.20</td>\n",
              "      <td>287.46</td>\n",
              "      <td>244.200</td>\n",
              "      <td>43.260</td>\n",
              "    </tr>\n",
              "  </tbody>\n",
              "</table>\n",
              "<p>84711 rows × 8 columns</p>\n",
              "</div>\n",
              "      <button class=\"colab-df-convert\" onclick=\"convertToInteractive('df-73aa3253-77cf-4bca-bcdd-d08af28792d7')\"\n",
              "              title=\"Convert this dataframe to an interactive table.\"\n",
              "              style=\"display:none;\">\n",
              "        \n",
              "  <svg xmlns=\"http://www.w3.org/2000/svg\" height=\"24px\"viewBox=\"0 0 24 24\"\n",
              "       width=\"24px\">\n",
              "    <path d=\"M0 0h24v24H0V0z\" fill=\"none\"/>\n",
              "    <path d=\"M18.56 5.44l.94 2.06.94-2.06 2.06-.94-2.06-.94-.94-2.06-.94 2.06-2.06.94zm-11 1L8.5 8.5l.94-2.06 2.06-.94-2.06-.94L8.5 2.5l-.94 2.06-2.06.94zm10 10l.94 2.06.94-2.06 2.06-.94-2.06-.94-.94-2.06-.94 2.06-2.06.94z\"/><path d=\"M17.41 7.96l-1.37-1.37c-.4-.4-.92-.59-1.43-.59-.52 0-1.04.2-1.43.59L10.3 9.45l-7.72 7.72c-.78.78-.78 2.05 0 2.83L4 21.41c.39.39.9.59 1.41.59.51 0 1.02-.2 1.41-.59l7.78-7.78 2.81-2.81c.8-.78.8-2.07 0-2.86zM5.41 20L4 18.59l7.72-7.72 1.47 1.35L5.41 20z\"/>\n",
              "  </svg>\n",
              "      </button>\n",
              "      \n",
              "  <style>\n",
              "    .colab-df-container {\n",
              "      display:flex;\n",
              "      flex-wrap:wrap;\n",
              "      gap: 12px;\n",
              "    }\n",
              "\n",
              "    .colab-df-convert {\n",
              "      background-color: #E8F0FE;\n",
              "      border: none;\n",
              "      border-radius: 50%;\n",
              "      cursor: pointer;\n",
              "      display: none;\n",
              "      fill: #1967D2;\n",
              "      height: 32px;\n",
              "      padding: 0 0 0 0;\n",
              "      width: 32px;\n",
              "    }\n",
              "\n",
              "    .colab-df-convert:hover {\n",
              "      background-color: #E2EBFA;\n",
              "      box-shadow: 0px 1px 2px rgba(60, 64, 67, 0.3), 0px 1px 3px 1px rgba(60, 64, 67, 0.15);\n",
              "      fill: #174EA6;\n",
              "    }\n",
              "\n",
              "    [theme=dark] .colab-df-convert {\n",
              "      background-color: #3B4455;\n",
              "      fill: #D2E3FC;\n",
              "    }\n",
              "\n",
              "    [theme=dark] .colab-df-convert:hover {\n",
              "      background-color: #434B5C;\n",
              "      box-shadow: 0px 1px 3px 1px rgba(0, 0, 0, 0.15);\n",
              "      filter: drop-shadow(0px 1px 2px rgba(0, 0, 0, 0.3));\n",
              "      fill: #FFFFFF;\n",
              "    }\n",
              "  </style>\n",
              "\n",
              "      <script>\n",
              "        const buttonEl =\n",
              "          document.querySelector('#df-73aa3253-77cf-4bca-bcdd-d08af28792d7 button.colab-df-convert');\n",
              "        buttonEl.style.display =\n",
              "          google.colab.kernel.accessAllowed ? 'block' : 'none';\n",
              "\n",
              "        async function convertToInteractive(key) {\n",
              "          const element = document.querySelector('#df-73aa3253-77cf-4bca-bcdd-d08af28792d7');\n",
              "          const dataTable =\n",
              "            await google.colab.kernel.invokeFunction('convertToInteractive',\n",
              "                                                     [key], {});\n",
              "          if (!dataTable) return;\n",
              "\n",
              "          const docLinkHtml = 'Like what you see? Visit the ' +\n",
              "            '<a target=\"_blank\" href=https://colab.research.google.com/notebooks/data_table.ipynb>data table notebook</a>'\n",
              "            + ' to learn more about interactive tables.';\n",
              "          element.innerHTML = '';\n",
              "          dataTable['output_type'] = 'display_data';\n",
              "          await google.colab.output.renderOutput(dataTable, element);\n",
              "          const docLink = document.createElement('div');\n",
              "          docLink.innerHTML = docLinkHtml;\n",
              "          element.appendChild(docLink);\n",
              "        }\n",
              "      </script>\n",
              "    </div>\n",
              "  </div>\n",
              "  "
            ]
          },
          "metadata": {},
          "execution_count": 13
        }
      ]
    },
    {
      "cell_type": "code",
      "source": [
        "Y_C"
      ],
      "metadata": {
        "colab": {
          "base_uri": "https://localhost:8080/",
          "height": 467
        },
        "id": "Ecnxcydo2N90",
        "outputId": "974a9621-4511-4f6b-c029-01698ed0bad8"
      },
      "execution_count": 14,
      "outputs": [
        {
          "output_type": "execute_result",
          "data": {
            "text/plain": [
              "        Transaction ID  Date of Travel     Company           City  \\\n",
              "233           10000384           42371  Yellow Cab     ATLANTA GA   \n",
              "234           10000385           42378  Yellow Cab     ATLANTA GA   \n",
              "235           10000386           42372  Yellow Cab     ATLANTA GA   \n",
              "236           10000387           42375  Yellow Cab     ATLANTA GA   \n",
              "237           10000388           42376  Yellow Cab     ATLANTA GA   \n",
              "...                ...             ...         ...            ...   \n",
              "359387        10440101           43108  Yellow Cab  WASHINGTON DC   \n",
              "359388        10440104           43104  Yellow Cab  WASHINGTON DC   \n",
              "359389        10440105           43105  Yellow Cab  WASHINGTON DC   \n",
              "359390        10440106           43105  Yellow Cab  WASHINGTON DC   \n",
              "359391        10440107           43102  Yellow Cab  WASHINGTON DC   \n",
              "\n",
              "        KM Travelled  Price Charged  Cost of Trip    Profit  \n",
              "233            33.93        1341.17      464.1624  877.0076  \n",
              "234            42.18        1412.06      516.2832  895.7768  \n",
              "235            10.60         364.62      132.2880  232.3320  \n",
              "236            26.75         838.00      333.8400  504.1600  \n",
              "237            46.02        1540.61      596.4192  944.1908  \n",
              "...              ...            ...           ...       ...  \n",
              "359387          4.80          69.24       63.3600    5.8800  \n",
              "359388          8.40         113.75      106.8480    6.9020  \n",
              "359389         27.75         437.07      349.6500   87.4200  \n",
              "359390          8.80         146.19      114.0480   32.1420  \n",
              "359391         12.76         191.58      177.6192   13.9608  \n",
              "\n",
              "[274681 rows x 8 columns]"
            ],
            "text/html": [
              "\n",
              "  <div id=\"df-e9ca5590-32d9-470f-98ff-09c88069ec69\">\n",
              "    <div class=\"colab-df-container\">\n",
              "      <div>\n",
              "<style scoped>\n",
              "    .dataframe tbody tr th:only-of-type {\n",
              "        vertical-align: middle;\n",
              "    }\n",
              "\n",
              "    .dataframe tbody tr th {\n",
              "        vertical-align: top;\n",
              "    }\n",
              "\n",
              "    .dataframe thead th {\n",
              "        text-align: right;\n",
              "    }\n",
              "</style>\n",
              "<table border=\"1\" class=\"dataframe\">\n",
              "  <thead>\n",
              "    <tr style=\"text-align: right;\">\n",
              "      <th></th>\n",
              "      <th>Transaction ID</th>\n",
              "      <th>Date of Travel</th>\n",
              "      <th>Company</th>\n",
              "      <th>City</th>\n",
              "      <th>KM Travelled</th>\n",
              "      <th>Price Charged</th>\n",
              "      <th>Cost of Trip</th>\n",
              "      <th>Profit</th>\n",
              "    </tr>\n",
              "  </thead>\n",
              "  <tbody>\n",
              "    <tr>\n",
              "      <th>233</th>\n",
              "      <td>10000384</td>\n",
              "      <td>42371</td>\n",
              "      <td>Yellow Cab</td>\n",
              "      <td>ATLANTA GA</td>\n",
              "      <td>33.93</td>\n",
              "      <td>1341.17</td>\n",
              "      <td>464.1624</td>\n",
              "      <td>877.0076</td>\n",
              "    </tr>\n",
              "    <tr>\n",
              "      <th>234</th>\n",
              "      <td>10000385</td>\n",
              "      <td>42378</td>\n",
              "      <td>Yellow Cab</td>\n",
              "      <td>ATLANTA GA</td>\n",
              "      <td>42.18</td>\n",
              "      <td>1412.06</td>\n",
              "      <td>516.2832</td>\n",
              "      <td>895.7768</td>\n",
              "    </tr>\n",
              "    <tr>\n",
              "      <th>235</th>\n",
              "      <td>10000386</td>\n",
              "      <td>42372</td>\n",
              "      <td>Yellow Cab</td>\n",
              "      <td>ATLANTA GA</td>\n",
              "      <td>10.60</td>\n",
              "      <td>364.62</td>\n",
              "      <td>132.2880</td>\n",
              "      <td>232.3320</td>\n",
              "    </tr>\n",
              "    <tr>\n",
              "      <th>236</th>\n",
              "      <td>10000387</td>\n",
              "      <td>42375</td>\n",
              "      <td>Yellow Cab</td>\n",
              "      <td>ATLANTA GA</td>\n",
              "      <td>26.75</td>\n",
              "      <td>838.00</td>\n",
              "      <td>333.8400</td>\n",
              "      <td>504.1600</td>\n",
              "    </tr>\n",
              "    <tr>\n",
              "      <th>237</th>\n",
              "      <td>10000388</td>\n",
              "      <td>42376</td>\n",
              "      <td>Yellow Cab</td>\n",
              "      <td>ATLANTA GA</td>\n",
              "      <td>46.02</td>\n",
              "      <td>1540.61</td>\n",
              "      <td>596.4192</td>\n",
              "      <td>944.1908</td>\n",
              "    </tr>\n",
              "    <tr>\n",
              "      <th>...</th>\n",
              "      <td>...</td>\n",
              "      <td>...</td>\n",
              "      <td>...</td>\n",
              "      <td>...</td>\n",
              "      <td>...</td>\n",
              "      <td>...</td>\n",
              "      <td>...</td>\n",
              "      <td>...</td>\n",
              "    </tr>\n",
              "    <tr>\n",
              "      <th>359387</th>\n",
              "      <td>10440101</td>\n",
              "      <td>43108</td>\n",
              "      <td>Yellow Cab</td>\n",
              "      <td>WASHINGTON DC</td>\n",
              "      <td>4.80</td>\n",
              "      <td>69.24</td>\n",
              "      <td>63.3600</td>\n",
              "      <td>5.8800</td>\n",
              "    </tr>\n",
              "    <tr>\n",
              "      <th>359388</th>\n",
              "      <td>10440104</td>\n",
              "      <td>43104</td>\n",
              "      <td>Yellow Cab</td>\n",
              "      <td>WASHINGTON DC</td>\n",
              "      <td>8.40</td>\n",
              "      <td>113.75</td>\n",
              "      <td>106.8480</td>\n",
              "      <td>6.9020</td>\n",
              "    </tr>\n",
              "    <tr>\n",
              "      <th>359389</th>\n",
              "      <td>10440105</td>\n",
              "      <td>43105</td>\n",
              "      <td>Yellow Cab</td>\n",
              "      <td>WASHINGTON DC</td>\n",
              "      <td>27.75</td>\n",
              "      <td>437.07</td>\n",
              "      <td>349.6500</td>\n",
              "      <td>87.4200</td>\n",
              "    </tr>\n",
              "    <tr>\n",
              "      <th>359390</th>\n",
              "      <td>10440106</td>\n",
              "      <td>43105</td>\n",
              "      <td>Yellow Cab</td>\n",
              "      <td>WASHINGTON DC</td>\n",
              "      <td>8.80</td>\n",
              "      <td>146.19</td>\n",
              "      <td>114.0480</td>\n",
              "      <td>32.1420</td>\n",
              "    </tr>\n",
              "    <tr>\n",
              "      <th>359391</th>\n",
              "      <td>10440107</td>\n",
              "      <td>43102</td>\n",
              "      <td>Yellow Cab</td>\n",
              "      <td>WASHINGTON DC</td>\n",
              "      <td>12.76</td>\n",
              "      <td>191.58</td>\n",
              "      <td>177.6192</td>\n",
              "      <td>13.9608</td>\n",
              "    </tr>\n",
              "  </tbody>\n",
              "</table>\n",
              "<p>274681 rows × 8 columns</p>\n",
              "</div>\n",
              "      <button class=\"colab-df-convert\" onclick=\"convertToInteractive('df-e9ca5590-32d9-470f-98ff-09c88069ec69')\"\n",
              "              title=\"Convert this dataframe to an interactive table.\"\n",
              "              style=\"display:none;\">\n",
              "        \n",
              "  <svg xmlns=\"http://www.w3.org/2000/svg\" height=\"24px\"viewBox=\"0 0 24 24\"\n",
              "       width=\"24px\">\n",
              "    <path d=\"M0 0h24v24H0V0z\" fill=\"none\"/>\n",
              "    <path d=\"M18.56 5.44l.94 2.06.94-2.06 2.06-.94-2.06-.94-.94-2.06-.94 2.06-2.06.94zm-11 1L8.5 8.5l.94-2.06 2.06-.94-2.06-.94L8.5 2.5l-.94 2.06-2.06.94zm10 10l.94 2.06.94-2.06 2.06-.94-2.06-.94-.94-2.06-.94 2.06-2.06.94z\"/><path d=\"M17.41 7.96l-1.37-1.37c-.4-.4-.92-.59-1.43-.59-.52 0-1.04.2-1.43.59L10.3 9.45l-7.72 7.72c-.78.78-.78 2.05 0 2.83L4 21.41c.39.39.9.59 1.41.59.51 0 1.02-.2 1.41-.59l7.78-7.78 2.81-2.81c.8-.78.8-2.07 0-2.86zM5.41 20L4 18.59l7.72-7.72 1.47 1.35L5.41 20z\"/>\n",
              "  </svg>\n",
              "      </button>\n",
              "      \n",
              "  <style>\n",
              "    .colab-df-container {\n",
              "      display:flex;\n",
              "      flex-wrap:wrap;\n",
              "      gap: 12px;\n",
              "    }\n",
              "\n",
              "    .colab-df-convert {\n",
              "      background-color: #E8F0FE;\n",
              "      border: none;\n",
              "      border-radius: 50%;\n",
              "      cursor: pointer;\n",
              "      display: none;\n",
              "      fill: #1967D2;\n",
              "      height: 32px;\n",
              "      padding: 0 0 0 0;\n",
              "      width: 32px;\n",
              "    }\n",
              "\n",
              "    .colab-df-convert:hover {\n",
              "      background-color: #E2EBFA;\n",
              "      box-shadow: 0px 1px 2px rgba(60, 64, 67, 0.3), 0px 1px 3px 1px rgba(60, 64, 67, 0.15);\n",
              "      fill: #174EA6;\n",
              "    }\n",
              "\n",
              "    [theme=dark] .colab-df-convert {\n",
              "      background-color: #3B4455;\n",
              "      fill: #D2E3FC;\n",
              "    }\n",
              "\n",
              "    [theme=dark] .colab-df-convert:hover {\n",
              "      background-color: #434B5C;\n",
              "      box-shadow: 0px 1px 3px 1px rgba(0, 0, 0, 0.15);\n",
              "      filter: drop-shadow(0px 1px 2px rgba(0, 0, 0, 0.3));\n",
              "      fill: #FFFFFF;\n",
              "    }\n",
              "  </style>\n",
              "\n",
              "      <script>\n",
              "        const buttonEl =\n",
              "          document.querySelector('#df-e9ca5590-32d9-470f-98ff-09c88069ec69 button.colab-df-convert');\n",
              "        buttonEl.style.display =\n",
              "          google.colab.kernel.accessAllowed ? 'block' : 'none';\n",
              "\n",
              "        async function convertToInteractive(key) {\n",
              "          const element = document.querySelector('#df-e9ca5590-32d9-470f-98ff-09c88069ec69');\n",
              "          const dataTable =\n",
              "            await google.colab.kernel.invokeFunction('convertToInteractive',\n",
              "                                                     [key], {});\n",
              "          if (!dataTable) return;\n",
              "\n",
              "          const docLinkHtml = 'Like what you see? Visit the ' +\n",
              "            '<a target=\"_blank\" href=https://colab.research.google.com/notebooks/data_table.ipynb>data table notebook</a>'\n",
              "            + ' to learn more about interactive tables.';\n",
              "          element.innerHTML = '';\n",
              "          dataTable['output_type'] = 'display_data';\n",
              "          await google.colab.output.renderOutput(dataTable, element);\n",
              "          const docLink = document.createElement('div');\n",
              "          docLink.innerHTML = docLinkHtml;\n",
              "          element.appendChild(docLink);\n",
              "        }\n",
              "      </script>\n",
              "    </div>\n",
              "  </div>\n",
              "  "
            ]
          },
          "metadata": {},
          "execution_count": 14
        }
      ]
    },
    {
      "cell_type": "code",
      "source": [
        "grouped = P_C.groupby(['City'])\n",
        "grouped_sum_pc = grouped.sum()['Profit']\n",
        "pc1 = pd.DataFrame({'City': grouped_sum_pc.index, 'Profit': grouped_sum_pc.values})\n",
        "pc1.columns = ['City', 'profit']"
      ],
      "metadata": {
        "id": "ODIYYR1rtFym"
      },
      "execution_count": 15,
      "outputs": []
    },
    {
      "cell_type": "code",
      "source": [
        "grouped = Y_C.groupby(['City'])\n",
        "grouped_sum_yc = grouped.sum()['Profit']\n",
        "yc1 = pd.DataFrame({'City': grouped_sum_yc.index, 'Profit': grouped_sum_yc.values})\n",
        "yc1.columns = ['City', 'profit']"
      ],
      "metadata": {
        "id": "t_OTTLm0uazc"
      },
      "execution_count": 16,
      "outputs": []
    },
    {
      "cell_type": "code",
      "source": [
        "combined_df = pd.concat([pc1, yc1], keys=['Pink Cab', 'Yellow Cab'])\n",
        "\n",
        "pivot_df = pd.pivot_table(combined_df, index='City', columns=combined_df.index.get_level_values(0), values='profit')\n",
        "pivot_df.plot(kind='bar')\n",
        "\n",
        "plt.xlabel('City')\n",
        "plt.ylabel('Profit')\n",
        "plt.title('City-wise and Company-wise Profit')\n",
        "plt.show()\n"
      ],
      "metadata": {
        "colab": {
          "base_uri": "https://localhost:8080/",
          "height": 373
        },
        "id": "R19JjFTOyik0",
        "outputId": "3fde2d87-2399-473b-d56d-591945fff686"
      },
      "execution_count": 17,
      "outputs": [
        {
          "output_type": "display_data",
          "data": {
            "text/plain": [
              "<Figure size 432x288 with 1 Axes>"
            ],
            "image/png": "[encoded data removed]"
          },
          "metadata": {
            "needs_background": "light"
          }
        }
      ]
    },
    {
      "cell_type": "markdown",
      "source": [
        "#New york has the highest profit (Yellow Cab),also it can be easily seen in all the city's the profit of yellow cab is more."
      ],
      "metadata": {
        "id": "FJqrk9Ok03lA"
      }
    },
    {
      "cell_type": "code",
      "source": [
        "C_data['profit']=C_data['Price Charged']-C_data['Cost of Trip']\n",
        "data = pd.merge(C_data, T_ID, on='Transaction ID')\n",
        "data = pd.merge(data, C_ID, on='Customer ID')\n",
        "\n",
        "# Define income ranges and group the data by company and income ranges\n",
        "income_ranges = pd.cut(data['Income (USD/Month)'], bins=[0, 2500, 15000, 35000], labels=['<2500', '2500-15000', '15000'])\n",
        "grouped = data.groupby(['Company', income_ranges])\n",
        "\n",
        "# Calculate the total profit for each group\n",
        "profit = grouped.sum()['profit']\n",
        "\n",
        "# Create a bar plot with company name on the x-axis, profit on the y-axis, and income ranges as the different sections on each bar\n",
        "ax = profit.unstack().plot(kind='bar', stacked=True)\n",
        "\n",
        "# Set the labels and title\n",
        "ax.set_xlabel('Company')\n",
        "ax.set_ylabel('Profit')\n",
        "ax.set_title('Income-wise profit for each company')\n",
        "\n",
        "# Add section on each bar with salary ranges\n",
        "ax.legend(title='Income Range', bbox_to_anchor=(1.05, 1), loc='upper left')\n",
        "plt.show()"
      ],
      "metadata": {
        "colab": {
          "base_uri": "https://localhost:8080/",
          "height": 338
        },
        "id": "Hwwuvqe-zZ0Y",
        "outputId": "cf3690fa-896d-495a-caab-765b9dd2e5fb"
      },
      "execution_count": 18,
      "outputs": [
        {
          "output_type": "display_data",
          "data": {
            "text/plain": [
              "<Figure size 432x288 with 1 Axes>"
            ],
            "image/png": "[encoded data removed]"
          },
          "metadata": {
            "needs_background": "light"
          }
        }
      ]
    },
    {
      "cell_type": "markdown",
      "source": [
        "#Middle class(2500$ < Salary < 15000$) and rich class(salary > 15000$) are the main clients of both of the two cab companies."
      ],
      "metadata": {
        "id": "w467Fgm81YjM"
      }
    },
    {
      "cell_type": "code",
      "source": [
        "merged_data = pd.merge(C_data, T_ID, on='Transaction ID')\n",
        "\n",
        "# Group the data by company and city to count the number of users in each group\n",
        "grouped_data = merged_data.groupby(['Company', 'City']).size().reset_index(name='count')\n",
        "\n",
        "# Pivot the data to make it suitable for plotting a stacked bar chart\n",
        "pivot_data = grouped_data.pivot(index='City', columns='Company', values='count')\n",
        "\n",
        "# Plot a stacked bar chart of the number of users covered by different companies in each city\n",
        "ax = pivot_data.plot.bar(stacked=True, figsize=(10, 6))\n",
        "\n",
        "# Set the axis labels and title\n",
        "ax.set_xlabel('City')\n",
        "ax.set_ylabel('Number of Users')\n",
        "ax.set_title('Number of Users Covered by Different Companies in Each City')\n",
        "\n",
        "# Show the plot\n",
        "plt.show()\n",
        "\n",
        "\n",
        "\n",
        "\n"
      ],
      "metadata": {
        "colab": {
          "base_uri": "https://localhost:8080/",
          "height": 481
        },
        "id": "jkMD62yD50Mp",
        "outputId": "d896ff6f-3c08-4e50-c6e1-7ce97098775e"
      },
      "execution_count": null,
      "outputs": [
        {
          "output_type": "display_data",
          "data": {
            "text/plain": [
              "<Figure size 720x432 with 1 Axes>"
            ],
            "image/png": "[encoded data removed]"
          },
          "metadata": {
            "needs_background": "light"
          }
        }
      ]
    },
    {
      "cell_type": "markdown",
      "source": [
        "#City like San Diego, Sacramento , Pittsburgh,Nashville and Tuscson are dominated by the Pink Cab company, or Users prefer more pink cab in these towns."
      ],
      "metadata": {
        "id": "tbb3aBJE10Q5"
      }
    },
    {
      "cell_type": "code",
      "source": [
        "merged_data = pd.merge(C_data, T_ID, on='Transaction ID')\n",
        "\n",
        "# Group the data by company and kilometer_travelled\n",
        "bins = [0, 5, 10, 15, 20, 25, 30, 35, 40, 45]\n",
        "labels = ['0-5', '5-10', '10-15', '15-20', '20-25', '25-30','30-35','35-40','40-45']\n",
        "merged_data['km_bins'] = pd.cut(merged_data['KM Travelled'], bins=bins, labels=labels)\n",
        "\n",
        "colors = ['blue', 'green']\n",
        "for i, company in enumerate(merged_data['Company'].unique()):\n",
        "    company_data = merged_data[merged_data['Company'] == company]\n",
        "    plt.hist(company_data['KM Travelled'], bins=bins, color=colors[i], alpha=0.5, label=company, width=5.0, align='left', edgecolor='white')\n",
        "\n",
        "plt.xlabel('Kilometer Travelled (in km ranges)')\n",
        "plt.ylabel('Number of Users (Number of CIDs)')\n",
        "plt.title('Number of Users vs Kilometer Travelled by Company')\n",
        "plt.xticks(bins, labels)\n",
        "plt.legend()\n",
        "plt.show()"
      ],
      "metadata": {
        "colab": {
          "base_uri": "https://localhost:8080/",
          "height": 295
        },
        "id": "eAKtJgegEzQa",
        "outputId": "267786cb-b91e-43ef-f75d-6ebc89f44126"
      },
      "execution_count": 19,
      "outputs": [
        {
          "output_type": "display_data",
          "data": {
            "text/plain": [
              "<Figure size 432x288 with 1 Axes>"
            ],
            "image/png": "[encoded data removed]"
          },
          "metadata": {
            "needs_background": "light"
          }
        }
      ]
    },
    {
      "cell_type": "markdown",
      "source": [
        "#However we have the data only for a certain period we can see that yellow cab has more kilometers covered than Pink cab which mean it is used more by the customers."
      ],
      "metadata": {
        "id": "rtgqCPW92peJ"
      }
    },
    {
      "cell_type": "markdown",
      "source": [
        "#Note: The data set has column of 'Date of travel' which has values like 42377,42375... which does not match with the regular format of date dd/mm/yyyy.Hence the evaluation related to the date and time was not possible."
      ],
      "metadata": {
        "id": "hOIVpKq33AQf"
      }
    },
    {
      "cell_type": "markdown",
      "source": [
        "#Analysis and Hypothesis.\n",
        "\n",
        "\n",
        "---\n",
        "\n",
        "\n",
        "\n",
        "1.  Profit:In terms of overall profit yellow cab has 8% higher profit than pink cab\n",
        "2.   Customers reach : Out of 19 cities, yellow cab is used more in 16 cities while one can see the dominance of pink cab in just 4 cities.\n",
        "3.Income Wise: Both the cab has same distribution of providing services to low, medium and high income people however the distribution of yellow cab is much more clean.\n",
        "4.KM-Wise Profit: Yellow Cab has more profit per km than of pink cab.\n",
        "\n",
        "On the basis of my analysis,I recommend Yellow cab over the Pink Cab.\n",
        "\n",
        "\n",
        "\n"
      ],
      "metadata": {
        "id": "6lpymGG93jGI"
      }
    }
  ]
}